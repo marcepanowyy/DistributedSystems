{
 "cells": [
  {
   "cell_type": "markdown",
   "source": [
    "# AGH DS Laboratory 3 - Actor Model with Ray Framework\n",
    "\n",
    "## Introduction\n",
    "\n",
    "Ray is a general-purpose framework for programming a cluster made by UC Berkeley's RISELab. It enables developers to easily parallelize their Python applications or build new ones, and run them at any scale, from a laptop to a large cluster. It also provides a highly flexible, yet minimalist and easy to use API. \n",
    "\n",
    "#### Documentation Reference Links:\n",
    "\n",
    "Ray official website: https://rise.cs.berkeley.edu/projects/ray/\n",
    "\n",
    "Ray documentation website: http://ray.readthedocs.io/en/latest/\n",
    "\n",
    "GitHub repository: https://github.com/ray-project/ray\n",
    "\n",
    "### Installation\n",
    "Please follow the instructions:\n",
    "\n",
    "Installation: https://docs.ray.io/en/latest/ray-overview/installation.html\n"
   ],
   "metadata": {
    "collapsed": false
   },
   "id": "29fc23d010892547"
  },
  {
   "cell_type": "markdown",
   "source": [
    "***\n",
    "## Part 1 - Remote Functions\n",
    "\n",
    "This script is too slow, and the computation is embarrassingly parallel. In this exercise, you will use Ray to execute the functions in parallel to speed it up.\n",
    "\n",
    "The standard way to turn a Python function into a remote function is to add the `@ray.remote` decorator. Here is an example.\n",
    "\n",
    "```python\n",
    "# A regular Python function.\n",
    "def regular_function(x):\n",
    "    return x + 1\n",
    "\n",
    "# A Ray remote function.\n",
    "@ray.remote\n",
    "def remote_function(x):\n",
    "    return x + 1\n",
    "```\n",
    "\n",
    "The differences are the following:\n",
    "\n",
    "1. **Invocation:** The regular version is called with `regular_function(1)`, whereas the remote version is called with `remote_function.remote(1)`.\n",
    "2. **Return values:** `regular_function` immediately executes and returns `1`, whereas `remote_function` immediately returns an object ID (a future) and then creates a task that will be executed on a worker process. The result can be obtained with `ray.get`.\n",
    "    ```python\n",
    "    >>> regular_function(0)\n",
    "    1\n",
    "    \n",
    "    >>> remote_function.remote(0)\n",
    "    ObjectID(1c80d6937802cd7786ad25e50caf2f023c95e350)\n",
    "    \n",
    "    >>> ray.get(remote_function.remote(0))\n",
    "    1\n",
    "    ```\n",
    "3. **Parallelism:** Invocations of `regular_function` happen **serially**, for example\n",
    "    ```python\n",
    "    # These happen serially.\n",
    "    for _ in range(4):\n",
    "        regular_function(0)\n",
    "    ```\n",
    "    whereas invocations of `remote_function` happen in **parallel**, for example\n",
    "    ```python\n",
    "    # These happen in parallel.\n",
    "    for _ in range(4):\n",
    "        remote_function.remote(0)\n",
    "    ```"
   ],
   "metadata": {
    "collapsed": false
   },
   "id": "997d0555744a1e39"
  },
  {
   "cell_type": "code",
   "outputs": [],
   "source": [
    "from __future__ import absolute_import\n",
    "from __future__ import division\n",
    "from __future__ import print_function\n",
    "\n",
    "import ray\n",
    "import time\n",
    "import numpy as np\n",
    "from numpy import random\n",
    "import os\n",
    "import math\n",
    "import cProfile\n",
    "import pstats"
   ],
   "metadata": {
    "collapsed": false
   },
   "id": "191f3b456acd32fc",
   "execution_count": 3
  },
  {
   "cell_type": "markdown",
   "source": [
    "Start Ray. By default, Ray does not schedule more tasks concurrently than there are CPUs. This example requires four tasks to run concurrently, so we tell Ray that there are four CPUs. Usually this is not done and Ray computes the number of CPUs using `psutil.cpu_count()`. The argument `ignore_reinit_error=True` just ignores errors if the cell is run multiple times.\n",
    "\n",
    "The call to `ray.init` starts a number of processes."
   ],
   "metadata": {
    "collapsed": false
   },
   "id": "97096b3f4c6c556c"
  },
  {
   "cell_type": "code",
   "outputs": [
    {
     "name": "stderr",
     "output_type": "stream",
     "text": [
      "2024-04-21 14:05:22,803\tINFO worker.py:1743 -- Started a local Ray instance. View the dashboard at \u001B[1m\u001B[32m127.0.0.1:8265 \u001B[39m\u001B[22m\n"
     ]
    },
    {
     "data": {
      "text/plain": "RayContext(dashboard_url='127.0.0.1:8265', python_version='3.11.0', ray_version='2.10.0', ray_commit='09abba26b5bf2707639bb637c208d062a47b46f6')",
      "application/vnd.jupyter.widget-view+json": {
       "version_major": 2,
       "version_minor": 0,
       "model_id": "907ffa3070794792870fada7c092744c"
      },
      "text/html": "<div class=\"lm-Widget p-Widget lm-Panel p-Panel jp-Cell-outputWrapper\">\n    <div style=\"margin-left: 50px;display: flex;flex-direction: row;align-items: center\">\n        <div class=\"jp-RenderedHTMLCommon\" style=\"display: flex; flex-direction: row;\">\n  <svg viewBox=\"0 0 567 224\" fill=\"none\" xmlns=\"http://www.w3.org/2000/svg\" style=\"height: 3em;\">\n    <g clip-path=\"url(#clip0_4338_178347)\">\n        <path d=\"M341.29 165.561H355.29L330.13 129.051C345.63 123.991 354.21 112.051 354.21 94.2307C354.21 71.3707 338.72 58.1807 311.88 58.1807H271V165.561H283.27V131.661H311.8C314.25 131.661 316.71 131.501 319.01 131.351L341.25 165.561H341.29ZM283.29 119.851V70.0007H311.82C331.3 70.0007 342.34 78.2907 342.34 94.5507C342.34 111.271 331.34 119.861 311.82 119.861L283.29 119.851ZM451.4 138.411L463.4 165.561H476.74L428.74 58.1807H416L367.83 165.561H380.83L392.83 138.411H451.4ZM446.19 126.601H398L422 72.1407L446.24 126.601H446.19ZM526.11 128.741L566.91 58.1807H554.35L519.99 114.181L485.17 58.1807H472.44L514.01 129.181V165.541H526.13V128.741H526.11Z\" fill=\"var(--jp-ui-font-color0)\"/>\n        <path d=\"M82.35 104.44C84.0187 97.8827 87.8248 92.0678 93.1671 87.9146C98.5094 83.7614 105.083 81.5067 111.85 81.5067C118.617 81.5067 125.191 83.7614 130.533 87.9146C135.875 92.0678 139.681 97.8827 141.35 104.44H163.75C164.476 101.562 165.622 98.8057 167.15 96.2605L127.45 56.5605C121.071 60.3522 113.526 61.6823 106.235 60.3005C98.9443 58.9187 92.4094 54.9203 87.8602 49.0574C83.3109 43.1946 81.0609 35.8714 81.5332 28.4656C82.0056 21.0599 85.1679 14.0819 90.4252 8.8446C95.6824 3.60726 102.672 0.471508 110.08 0.0272655C117.487 -0.416977 124.802 1.86091 130.647 6.4324C136.493 11.0039 140.467 17.5539 141.821 24.8501C143.175 32.1463 141.816 39.6859 138 46.0505L177.69 85.7505C182.31 82.9877 187.58 81.4995 192.962 81.4375C198.345 81.3755 203.648 82.742 208.33 85.3976C213.012 88.0532 216.907 91.9029 219.616 96.5544C222.326 101.206 223.753 106.492 223.753 111.875C223.753 117.258 222.326 122.545 219.616 127.197C216.907 131.848 213.012 135.698 208.33 138.353C203.648 141.009 198.345 142.375 192.962 142.313C187.58 142.251 182.31 140.763 177.69 138L138 177.7C141.808 184.071 143.155 191.614 141.79 198.91C140.424 206.205 136.44 212.75 130.585 217.313C124.731 221.875 117.412 224.141 110.004 223.683C102.596 223.226 95.6103 220.077 90.3621 214.828C85.1139 209.58 81.9647 202.595 81.5072 195.187C81.0497 187.779 83.3154 180.459 87.878 174.605C92.4405 168.751 98.9853 164.766 106.281 163.401C113.576 162.035 121.119 163.383 127.49 167.19L167.19 127.49C165.664 124.941 164.518 122.182 163.79 119.3H141.39C139.721 125.858 135.915 131.673 130.573 135.826C125.231 139.98 118.657 142.234 111.89 142.234C105.123 142.234 98.5494 139.98 93.2071 135.826C87.8648 131.673 84.0587 125.858 82.39 119.3H60C58.1878 126.495 53.8086 132.78 47.6863 136.971C41.5641 141.163 34.1211 142.972 26.7579 142.059C19.3947 141.146 12.6191 137.574 7.70605 132.014C2.79302 126.454 0.0813599 119.29 0.0813599 111.87C0.0813599 104.451 2.79302 97.2871 7.70605 91.7272C12.6191 86.1673 19.3947 82.5947 26.7579 81.6817C34.1211 80.7686 41.5641 82.5781 47.6863 86.7696C53.8086 90.9611 58.1878 97.2456 60 104.44H82.35ZM100.86 204.32C103.407 206.868 106.759 208.453 110.345 208.806C113.93 209.159 117.527 208.258 120.522 206.256C123.517 204.254 125.725 201.276 126.771 197.828C127.816 194.38 127.633 190.677 126.253 187.349C124.874 184.021 122.383 181.274 119.205 179.577C116.027 177.88 112.359 177.337 108.826 178.042C105.293 178.746 102.113 180.654 99.8291 183.44C97.5451 186.226 96.2979 189.718 96.3 193.32C96.2985 195.364 96.7006 197.388 97.4831 199.275C98.2656 201.163 99.4132 202.877 100.86 204.32ZM204.32 122.88C206.868 120.333 208.453 116.981 208.806 113.396C209.159 109.811 208.258 106.214 206.256 103.219C204.254 100.223 201.275 98.0151 197.827 96.97C194.38 95.9249 190.676 96.1077 187.348 97.4873C184.02 98.8669 181.274 101.358 179.577 104.536C177.879 107.714 177.337 111.382 178.041 114.915C178.746 118.448 180.653 121.627 183.439 123.911C186.226 126.195 189.717 127.443 193.32 127.44C195.364 127.443 197.388 127.042 199.275 126.259C201.163 125.476 202.878 124.328 204.32 122.88ZM122.88 19.4205C120.333 16.8729 116.981 15.2876 113.395 14.9347C109.81 14.5817 106.213 15.483 103.218 17.4849C100.223 19.4868 98.0146 22.4654 96.9696 25.9131C95.9245 29.3608 96.1073 33.0642 97.4869 36.3922C98.8665 39.7202 101.358 42.4668 104.535 44.1639C107.713 45.861 111.381 46.4036 114.914 45.6992C118.447 44.9949 121.627 43.0871 123.911 40.301C126.195 37.515 127.442 34.0231 127.44 30.4205C127.44 28.3772 127.038 26.3539 126.255 24.4664C125.473 22.5788 124.326 20.8642 122.88 19.4205ZM19.42 100.86C16.8725 103.408 15.2872 106.76 14.9342 110.345C14.5813 113.93 15.4826 117.527 17.4844 120.522C19.4863 123.518 22.4649 125.726 25.9127 126.771C29.3604 127.816 33.0638 127.633 36.3918 126.254C39.7198 124.874 42.4664 122.383 44.1635 119.205C45.8606 116.027 46.4032 112.359 45.6988 108.826C44.9944 105.293 43.0866 102.114 40.3006 99.8296C37.5145 97.5455 34.0227 96.2983 30.42 96.3005C26.2938 96.3018 22.337 97.9421 19.42 100.86ZM100.86 100.86C98.3125 103.408 96.7272 106.76 96.3742 110.345C96.0213 113.93 96.9226 117.527 98.9244 120.522C100.926 123.518 103.905 125.726 107.353 126.771C110.8 127.816 114.504 127.633 117.832 126.254C121.16 124.874 123.906 122.383 125.604 119.205C127.301 116.027 127.843 112.359 127.139 108.826C126.434 105.293 124.527 102.114 121.741 99.8296C118.955 97.5455 115.463 96.2983 111.86 96.3005C109.817 96.299 107.793 96.701 105.905 97.4835C104.018 98.2661 102.303 99.4136 100.86 100.86Z\" fill=\"#00AEEF\"/>\n    </g>\n    <defs>\n        <clipPath id=\"clip0_4338_178347\">\n            <rect width=\"566.93\" height=\"223.75\" fill=\"white\"/>\n        </clipPath>\n    </defs>\n  </svg>\n</div>\n\n        <table class=\"jp-RenderedHTMLCommon\" style=\"border-collapse: collapse;color: var(--jp-ui-font-color1);font-size: var(--jp-ui-font-size1);\">\n    <tr>\n        <td style=\"text-align: left\"><b>Python version:</b></td>\n        <td style=\"text-align: left\"><b>3.11.0</b></td>\n    </tr>\n    <tr>\n        <td style=\"text-align: left\"><b>Ray version:</b></td>\n        <td style=\"text-align: left\"><b>2.10.0</b></td>\n    </tr>\n    <tr>\n    <td style=\"text-align: left\"><b>Dashboard:</b></td>\n    <td style=\"text-align: left\"><b><a href=\"http://127.0.0.1:8265\" target=\"_blank\">http://127.0.0.1:8265</a></b></td>\n</tr>\n\n</table>\n\n    </div>\n</div>\n"
     },
     "execution_count": 2,
     "metadata": {},
     "output_type": "execute_result"
    }
   ],
   "source": [
    "if ray.is_initialized:\n",
    "    ray.shutdown()\n",
    "ray.init(ignore_reinit_error=True)"
   ],
   "metadata": {
    "collapsed": false
   },
   "id": "ef22f58f35121d5d",
   "execution_count": 2
  },
  {
   "cell_type": "code",
   "outputs": [],
   "source": [
    "# This function is a proxy for a more interesting and computationally\n",
    "# intensive function.\n",
    "\n",
    "@ray.remote\n",
    "def slow_function(i):\n",
    "    time.sleep(1)\n",
    "    return i"
   ],
   "metadata": {
    "collapsed": false
   },
   "id": "fb85268744fc62ba",
   "execution_count": 4
  },
  {
   "cell_type": "markdown",
   "source": [
    "**EXERCISE:** The loop below takes too long. The four function calls could be executed in parallel. Instead of four seconds, it should only take one second. Once `slow_function` has been made a remote function, execute these four tasks in parallel by calling `slow_function.remote()`. Then obtain the results by calling `ray.get` on a list of the resulting object IDs."
   ],
   "metadata": {
    "collapsed": false
   },
   "id": "5c4646fb8e9d5f93"
  },
  {
   "cell_type": "code",
   "outputs": [
    {
     "name": "stdout",
     "output_type": "stream",
     "text": [
      "The results are [0, 1, 2, 3]. This took 1.028224229812622 seconds. Run the next cell to see if the exercise was done correctly.\n"
     ]
    }
   ],
   "source": [
    "# Sleep a little to improve the accuracy of the timing measurements below.\n",
    "# We do this because workers may still be starting up in the background.\n",
    "\n",
    "time.sleep(2.0)\n",
    "start_time = time.time()\n",
    "\n",
    "# results = [slow_function(i) for i in range(4)]\n",
    "ids = [slow_function.remote(i) for i in range(4)]\n",
    "results = [ray.get(id) for id in ids]\n",
    "\n",
    "end_time = time.time()\n",
    "duration = end_time - start_time\n",
    "\n",
    "print('The results are {}. This took {} seconds. Run the next cell to see '\n",
    "      'if the exercise was done correctly.'.format(results, duration))"
   ],
   "metadata": {
    "collapsed": false
   },
   "id": "ca6151ffe5a4383e",
   "execution_count": 12
  },
  {
   "cell_type": "markdown",
   "source": [
    "**VERIFY:** Run some checks to verify that the changes you made to the code were correct. Some of the checks should fail when you initially run the cells. After completing the exercises, the checks should pass."
   ],
   "metadata": {
    "collapsed": false
   },
   "id": "e07bc6009fe78751"
  },
  {
   "cell_type": "code",
   "outputs": [
    {
     "name": "stdout",
     "output_type": "stream",
     "text": [
      "Success! The example took 1.028224229812622 seconds.\n"
     ]
    }
   ],
   "source": [
    "assert results == [0, 1, 2, 3], 'Did you remember to call ray.get?'\n",
    "assert duration < 1.1, ('The loop took {} seconds. This is too slow.'\n",
    "                        .format(duration))\n",
    "assert duration > 1, ('The loop took {} seconds. This is too fast.'\n",
    "                      .format(duration))\n",
    "\n",
    "print('Success! The example took {} seconds.'.format(duration))"
   ],
   "metadata": {
    "collapsed": false
   },
   "id": "90ebedc34cecbb95",
   "execution_count": 13
  },
  {
   "cell_type": "markdown",
   "source": [
    "** Example Generating Fibonnaci series **\n",
    "Let's define two functions: one runs locally or serially, the other runs on a Ray cluster (local or remote). Please implment it"
   ],
   "metadata": {
    "collapsed": false
   },
   "id": "60138313f53b48a3"
  },
  {
   "cell_type": "code",
   "outputs": [],
   "source": [
    "# Function for local fibonacci computation\n",
    "def generate_fibonacci(sequence_size):\n",
    "\n",
    "    # return length of table with generated fibonacci numbers\n",
    "    # do not use recursion, reuse allocated table\n",
    "    # DO NOT RETURN ENTIRE TABLE\n",
    "\n",
    "    fib = [0, 1]\n",
    "    for i in range(2, sequence_size):\n",
    "        fib.append(fib[i-1] + fib[i-2])\n",
    "\n",
    "    return len(fib)\n",
    "\n",
    "# Function for remote Ray task with just a wrapper\n",
    "@ray.remote\n",
    "def generate_fibonacci_distributed(sequence_size):\n",
    "    return generate_fibonacci(sequence_size)"
   ],
   "metadata": {
    "collapsed": false
   },
   "id": "5dfc292ebb5a982b",
   "execution_count": 14
  },
  {
   "cell_type": "code",
   "outputs": [
    {
     "data": {
      "text/plain": "4"
     },
     "execution_count": 15,
     "metadata": {},
     "output_type": "execute_result"
    }
   ],
   "source": [
    "# Get the number of cores for better parallelism\n",
    "os.cpu_count()"
   ],
   "metadata": {
    "collapsed": false
   },
   "id": "22a15f29d14df7b6",
   "execution_count": 15
  },
  {
   "cell_type": "code",
   "outputs": [
    {
     "name": "stdout",
     "output_type": "stream",
     "text": [
      "CPU times: total: 2.97 s\n",
      "Wall time: 5.07 s\n"
     ]
    },
    {
     "data": {
      "text/plain": "[100000, 100000, 100000, 100000]"
     },
     "execution_count": 16,
     "metadata": {},
     "output_type": "execute_result"
    }
   ],
   "source": [
    "# Normal Python in a single process\n",
    "def run_local(sequence_size):\n",
    "    results = [generate_fibonacci(sequence_size) for _ in range(os.cpu_count())]\n",
    "    return results\n",
    "\n",
    "SEQUENCE_SIZE = 100000\n",
    "%time run_local(SEQUENCE_SIZE)"
   ],
   "metadata": {
    "collapsed": false
   },
   "id": "9cbd8721a3c6ff94",
   "execution_count": 16
  },
  {
   "cell_type": "code",
   "outputs": [
    {
     "name": "stdout",
     "output_type": "stream",
     "text": [
      "CPU times: total: 15.6 ms\n",
      "Wall time: 4.24 s\n"
     ]
    },
    {
     "data": {
      "text/plain": "[100000, 100000, 100000, 100000]"
     },
     "execution_count": 18,
     "metadata": {},
     "output_type": "execute_result"
    }
   ],
   "source": [
    "# Distributed on a Ray cluster\n",
    "def run_remote(sequence_size):\n",
    "    results = ray.get([generate_fibonacci_distributed.remote(sequence_size) for _ in range(os.cpu_count())])\n",
    "    return results\n",
    "\n",
    "%time run_remote(SEQUENCE_SIZE)"
   ],
   "metadata": {
    "collapsed": false
   },
   "id": "667b6946b4641f33",
   "execution_count": 18
  },
  {
   "cell_type": "markdown",
   "source": [
    "***\n",
    "## Part 2 - Parallel Data Processing with Task Dependencies\n",
    "\n",
    "**GOAL:** The goal of this exercise is to show how to pass object IDs into remote functions to encode dependencies between tasks.\n",
    "\n",
    "In this exercise, we construct a sequence of tasks each of which depends on the previous mimicking a data parallel application. Within each sequence, tasks are executed serially, but multiple sequences can be executed in parallel.\n",
    "\n",
    "In this exercise, you will use Ray to parallelize the computation below and speed it up.\n",
    "\n",
    "### Concept for this Exercise - Task Dependencies\n",
    "\n",
    "Suppose we have two remote functions defined as follows.\n",
    "\n",
    "```python\n",
    "@ray.remote\n",
    "def f(x):\n",
    "    return x\n",
    "```\n",
    "\n",
    "Arguments can be passed into remote functions as usual.\n",
    "\n",
    "```python\n",
    ">>> x1_id = f.remote(1)\n",
    ">>> ray.get(x1_id)\n",
    "1\n",
    "\n",
    ">>> x2_id = f.remote([1, 2, 3])\n",
    ">>> ray.get(x2_id)\n",
    "[1, 2, 3]\n",
    "```\n",
    "\n",
    "**Object IDs** can also be passed into remote functions. When the function actually gets executed, **the argument will be a retrieved as a regular Python object**.\n",
    "\n",
    "```python\n",
    ">>> y1_id = f.remote(x1_id)\n",
    ">>> ray.get(y1_id)\n",
    "1\n",
    "\n",
    ">>> y2_id = f.remote(x2_id)\n",
    ">>> ray.get(y2_id)\n",
    "[1, 2, 3]\n",
    "```\n",
    "\n",
    "So when implementing a remote function, the function should expect a regular Python object regardless of whether the caller passes in a regular Python object or an object ID.\n",
    "\n",
    "**Task dependencies affect scheduling.** In the example above, the task that creates `y1_id` depends on the task that creates `x1_id`. This has the following implications.\n",
    "\n",
    "- The second task will not be executed until the first task has finished executing.\n",
    "- If the two tasks are scheduled on different machines, the output of the first task (the value corresponding to `x1_id`) will be copied over the network to the machine where the second task is scheduled.\n"
   ],
   "metadata": {
    "collapsed": false
   },
   "id": "5955a53ffcf75185"
  },
  {
   "cell_type": "markdown",
   "source": [
    "These are some helper functions that mimic an example pattern of a data parallel application.\n",
    "\n",
    "**EXERCISE:** You will need to turn all of these functions into remote functions. When you turn these functions into remote function, you do not have to worry about whether the caller passes in an object ID or a regular object. In both cases, the arguments will be regular objects when the function executes. This means that even if you pass in an object ID, you **do not need to call `ray.get`** inside of these remote functions."
   ],
   "metadata": {
    "collapsed": false
   },
   "id": "b88e887feff3e438"
  },
  {
   "cell_type": "code",
   "outputs": [],
   "source": [
    "@ray.remote\n",
    "def load_data(filename):\n",
    "    time.sleep(0.1)\n",
    "    return np.ones((1000, 100))\n",
    "\n",
    "@ray.remote\n",
    "def normalize_data(data):\n",
    "    time.sleep(0.1)\n",
    "    return data - np.mean(data, axis=0)\n",
    "\n",
    "@ray.remote\n",
    "def extract_features(normalized_data):\n",
    "    time.sleep(0.1)\n",
    "    return np.hstack([normalized_data, normalized_data ** 2])\n",
    "\n",
    "@ray.remote\n",
    "def compute_loss(features):\n",
    "    num_data, dim = features.shape\n",
    "    time.sleep(0.1)\n",
    "    return np.sum((np.dot(features, np.ones(dim)) - np.ones(num_data)) ** 2)\n",
    "\n",
    "assert hasattr(load_data, 'remote'), 'load_data must be a remote function'\n",
    "assert hasattr(normalize_data, 'remote'), 'normalize_data must be a remote function'\n",
    "assert hasattr(extract_features, 'remote'), 'extract_features must be a remote function'\n",
    "assert hasattr(compute_loss, 'remote'), 'compute_loss must be a remote function'"
   ],
   "metadata": {
    "collapsed": false
   },
   "id": "8b739cc28319de38",
   "execution_count": 19
  },
  {
   "cell_type": "markdown",
   "source": [
    "**EXERCISE:** The loop below takes too long. Parallelize the four passes through the loop by turning `load_data`, `normalize_data`, `extract_features`, and `compute_loss` into remote functions and then retrieving the losses with `ray.get`.\n",
    "\n",
    "**NOTE:** You should only use **ONE** call to `ray.get`. For example, the object ID returned by `load_data` should be passed directly into `normalize_data` without needing to be retrieved by the driver."
   ],
   "metadata": {
    "collapsed": false
   },
   "id": "6f031d1ddeb96bc2"
  },
  {
   "cell_type": "code",
   "outputs": [
    {
     "name": "stdout",
     "output_type": "stream",
     "text": [
      "The losses are [1000.0, 1000.0, 1000.0, 1000.0].\n",
      "\n",
      "The loss is 4000.0. This took 0.5320208072662354 seconds. Run the next cell to see if the exercise was done correctly.\n"
     ]
    }
   ],
   "source": [
    "# Sleep a little to improve the accuracy of the timing measurements below.\n",
    "time.sleep(2.0)\n",
    "start_time = time.time()\n",
    "\n",
    "losses = []\n",
    "for filename in ['file1', 'file2', 'file3', 'file4']:\n",
    "    inner_start = time.time()\n",
    "\n",
    "    # data = load_data(filename)\n",
    "    # normalized_data = normalize_data(data)\n",
    "    # features = extract_features(normalized_data)\n",
    "    # loss = compute_loss(features)\n",
    "    # losses.append(loss)\n",
    "\n",
    "    load_data_id = load_data.remote(filename)\n",
    "    normalize_data_id = normalize_data.remote(load_data_id)\n",
    "    features_id = extract_features.remote(normalize_data_id)\n",
    "    loss_id = compute_loss.remote(features_id)\n",
    "    losses.append(loss_id)\n",
    "    \n",
    "    inner_end = time.time()\n",
    "    \n",
    "    if inner_end - inner_start >= 0.1:\n",
    "        raise Exception('You may be calling ray.get inside of the for loop! '\n",
    "                        'Doing this will prevent parallelism from being exposed. '\n",
    "                        'Make sure to only call ray.get once outside of the for loop.')\n",
    "\n",
    "losses = ray.get(losses)\n",
    "\n",
    "print('The losses are {}.'.format(losses) + '\\n')\n",
    "loss = sum(losses)\n",
    "\n",
    "end_time = time.time()\n",
    "duration = end_time - start_time\n",
    "\n",
    "print('The loss is {}. This took {} seconds. Run the next cell to see '\n",
    "      'if the exercise was done correctly.'.format(loss, duration))"
   ],
   "metadata": {
    "collapsed": false
   },
   "id": "5f11fd817ae6b435",
   "execution_count": 23
  },
  {
   "cell_type": "markdown",
   "source": [
    "**VERIFY:** Run some checks to verify that the changes you made to the code were correct. Some of the checks should fail when you initially run the cells. After completing the exercises, the checks should pass."
   ],
   "metadata": {
    "collapsed": false
   },
   "id": "bbfac1ca0c96db37"
  },
  {
   "cell_type": "code",
   "outputs": [
    {
     "name": "stdout",
     "output_type": "stream",
     "text": [
      "Success! The example took 0.5320208072662354 seconds.\n"
     ]
    }
   ],
   "source": [
    "assert loss == 4000\n",
    "assert duration < 0.8, ('The loop took {} seconds. This is too slow.'\n",
    "                        .format(duration))\n",
    "assert duration > 0.4, ('The loop took {} seconds. This is too fast.'\n",
    "                        .format(duration))\n",
    "\n",
    "print('Success! The example took {} seconds.'.format(duration))"
   ],
   "metadata": {
    "collapsed": false
   },
   "id": "a4cb48fa6fc3671e",
   "execution_count": 24
  },
  {
   "cell_type": "markdown",
   "source": [
    "***\n",
    "## Part 3 - Introducing Actors\n",
    "\n",
    "**Goal:** The goal of this exercise is to show how to create an actor and how to call actor methods.\n",
    "\n",
    "See the documentation on actors at https://docs.ray.io/en/latest/ray-core/actors.html.\n",
    "\n",
    "Sometimes you need a \"worker\" process to have \"state\". For example, that state might be a neural network, a simulator environment, a counter, or something else entirely. However, remote functions are side-effect free. That is, they operate on inputs and produce outputs, but they don't change the state of the worker they execute on.\n",
    "\n",
    "Actors are different. When we instantiate an actor, a brand new worker is created, and all methods that are called on that actor are executed on the newly created worker.\n",
    "\n",
    "This means that with a single actor, no parallelism can be achieved because calls to the actor's methods will be executed one at a time. However, multiple actors can be created and methods can be executed on them in parallel.\n",
    "\n",
    "### Concepts for this Exercise - Actors\n",
    "\n",
    "To create an actor, decorate Python class with the `@ray.remote` decorator.\n",
    "\n",
    "```python\n",
    "@ray.remote\n",
    "class Example(object):\n",
    "    def __init__(self, x):\n",
    "        self.x = x\n",
    "    \n",
    "    def set(self, x):\n",
    "        self.x = x\n",
    "    \n",
    "    def get(self):\n",
    "        return self.x\n",
    "```\n",
    "\n",
    "Like regular Python classes, **actors encapsulate state that is shared across actor method invocations**.\n",
    "\n",
    "Actor classes differ from regular Python classes in the following ways.\n",
    "1. **Instantiation:** A regular class would be instantiated via `e = Example(1)`. Actors are instantiated via\n",
    "    ```python\n",
    "    e = Example.remote(1)\n",
    "    ```\n",
    "    When an actor is instantiated, a **new worker process** is created by a local scheduler somewhere in the cluster.\n",
    "2. **Method Invocation:** Methods of a regular class would be invoked via `e.set(2)` or `e.get()`. Actor methods are invoked differently.\n",
    "    ```python\n",
    "    >>> e.set.remote(2)\n",
    "    ObjectID(d966aa9b6486331dc2257522734a69ff603e5a1c)\n",
    "    \n",
    "    >>> e.get.remote()\n",
    "    ObjectID(7c432c085864ed4c7c18cf112377a608676afbc3)\n",
    "    ```\n",
    "3. **Return Values:** Actor methods are non-blocking. They immediately return an object ID and **they create a task which is scheduled on the actor worker**. The result can be retrieved with `ray.get`.\n",
    "    ```python\n",
    "    >>> ray.get(e.set.remote(2))\n",
    "    None\n",
    "    \n",
    "    >>> ray.get(e.get.remote())\n",
    "    2\n",
    "    ```"
   ],
   "metadata": {
    "collapsed": false
   },
   "id": "6750753a1dd13313"
  },
  {
   "cell_type": "markdown",
   "source": [
    "**EXERCISE:** Change the `Foo` class to be an actor class by using the `@ray.remote` decorator."
   ],
   "metadata": {
    "collapsed": false
   },
   "id": "136d2f7e4b154088"
  },
  {
   "cell_type": "code",
   "outputs": [],
   "source": [
    "@ray.remote\n",
    "class Foo(object):\n",
    "    def __init__(self):\n",
    "        self.counter = 0\n",
    "\n",
    "    def reset(self):\n",
    "        self.counter = 0\n",
    "\n",
    "    def increment(self):\n",
    "        time.sleep(0.5)\n",
    "        self.counter += 1\n",
    "        return self.counter\n",
    "\n",
    "assert hasattr(Foo, 'remote'), 'You need to turn \"Foo\" into an actor with @ray.remote.'"
   ],
   "metadata": {
    "collapsed": false
   },
   "id": "e027e2a2af11648e",
   "execution_count": 25
  },
  {
   "cell_type": "markdown",
   "source": [
    "**EXERCISE:** Change the intantiations below to create two actors by calling `Foo.remote()`."
   ],
   "metadata": {
    "collapsed": false
   },
   "id": "a654a0b9ffe4d2b0"
  },
  {
   "cell_type": "code",
   "outputs": [],
   "source": [
    "# Create two Foo objects.\n",
    "\n",
    "# f1 = Foo()\n",
    "# f2 = Foo()\n",
    "\n",
    "f1 = Foo.remote()\n",
    "f2 = Foo.remote()"
   ],
   "metadata": {
    "collapsed": false
   },
   "id": "6b68dfb348c94076",
   "execution_count": 28
  },
  {
   "cell_type": "markdown",
   "source": [
    "**EXERCISE:** Parallelize the code below. The two actors can execute methods in parallel (though each actor can only execute one method at a time)."
   ],
   "metadata": {
    "collapsed": false
   },
   "id": "eba108b7ba52ddf7"
  },
  {
   "cell_type": "code",
   "outputs": [
    {
     "name": "stdout",
     "output_type": "stream",
     "text": [
      "Success! The example took 2.5829761028289795 seconds.\n"
     ]
    }
   ],
   "source": [
    "# Sleep a little to improve the accuracy of the timing measurements below.\n",
    "time.sleep(2.0)\n",
    "start_time = time.time()\n",
    "\n",
    "# Reset the actor state so that we can run this cell multiple times without\n",
    "# changing the results.\n",
    "\n",
    "# f1.reset()\n",
    "# f2.reset()\n",
    "\n",
    "f1.reset.remote()\n",
    "f2.reset.remote()\n",
    "\n",
    "# We want to parallelize this code. However, it is not straightforward to\n",
    "# make \"increment\" a remote function, because state is shared (the value of\n",
    "# \"self.counter\") between subsequent calls to \"increment\". In this case, it\n",
    "# makes sense to use actors.\n",
    "\n",
    "# results = []\n",
    "ids = []\n",
    "\n",
    "# for _ in range(5):\n",
    "#     results.append(f1.increment())\n",
    "#     results.append(f2.increment())\n",
    "\n",
    "for _ in range(5):\n",
    "    ids += [f1.increment.remote(), f2.increment.remote()]\n",
    "\n",
    "results = ray.get(ids)\n",
    "\n",
    "end_time = time.time()\n",
    "duration = end_time - start_time\n",
    "\n",
    "print('Success! The example took {} seconds.'.format(duration))\n",
    "\n",
    "assert not any([isinstance(result, ray.ObjectID) for result in results]), 'Looks like \"results\" is {}. You may have forgotten to call ray.get.'.format(results)"
   ],
   "metadata": {
    "collapsed": false
   },
   "id": "c537e12344716e0",
   "execution_count": 30
  },
  {
   "cell_type": "markdown",
   "source": [
    "**VERIFY:** Run some checks to verify that the changes you made to the code were correct. Some of the checks should fail when you initially run the cells. After completing the exercises, the checks should pass."
   ],
   "metadata": {
    "collapsed": false
   },
   "id": "85bf30d5a992ecc6"
  },
  {
   "cell_type": "code",
   "outputs": [
    {
     "name": "stdout",
     "output_type": "stream",
     "text": [
      "Success! The example took 2.5829761028289795 seconds.\n"
     ]
    }
   ],
   "source": [
    "assert results == [1, 1, 2, 2, 3, 3, 4, 4, 5, 5]\n",
    "\n",
    "assert duration < 3, ('The experiments ran in {} seconds. This is too '\n",
    "                      'slow.'.format(duration))\n",
    "assert duration > 2.5, ('The experiments ran in {} seconds. This is too '\n",
    "                        'fast.'.format(duration))\n",
    "\n",
    "print('Success! The example took {} seconds.'.format(duration))"
   ],
   "metadata": {
    "collapsed": false
   },
   "id": "b97d77030a0685c9",
   "execution_count": 31
  },
  {
   "cell_type": "markdown",
   "source": [
    "***\n",
    "## Part 4 - Handling Slow Tasks\n",
    "\n",
    "**GOAL:** The goal of this exercise is to show how to use `ray.wait` to avoid waiting for slow tasks.\n",
    "\n",
    "See the documentation for ray.wait at https://docs.ray.io/en/latest/ray-core/api/doc/ray.wait.html.\n",
    "\n",
    "This script starts 6 tasks, each of which takes a random amount of time to complete. We'd like to process the results in two batches (each of size 3). Change the code so that instead of waiting for a fixed set of 3 tasks to finish, we make the first batch consist of the first 3 tasks that complete. The second batch should consist of the 3 remaining tasks. Do this exercise by using `ray.wait`.\n",
    "\n",
    "### Concepts for this Exercise - ray.wait\n",
    "\n",
    "After launching a number of tasks, you may want to know which ones have finished executing. This can be done with `ray.wait`. The function works as follows.\n",
    "\n",
    "```python\n",
    "ready_ids, remaining_ids = ray.wait(object_ids, num_returns=1, timeout=None)\n",
    "```\n",
    "\n",
    "**Arguments:**\n",
    "- `object_ids`: This is a list of object IDs.\n",
    "- `num_returns`: This is maximum number of object IDs to wait for. The default value is `1`.\n",
    "- `timeout`: This is the maximum amount of time in milliseconds to wait for. So `ray.wait` will block until either `num_returns` objects are ready or until `timeout` milliseconds have passed.\n",
    "\n",
    "**Return values:**\n",
    "- `ready_ids`: This is a list of object IDs that are available in the object store.\n",
    "- `remaining_ids`: This is a list of the IDs that were in `object_ids` but are not in `ready_ids`, so the IDs in `ready_ids` and `remaining_ids` together make up all the IDs in `object_ids`."
   ],
   "metadata": {
    "collapsed": false
   },
   "id": "515b25c1cc382a7d"
  },
  {
   "cell_type": "markdown",
   "source": [
    "Define a remote function that takes a variable amount of time to run."
   ],
   "metadata": {
    "collapsed": false
   },
   "id": "42a962991ebe87c9"
  },
  {
   "cell_type": "code",
   "outputs": [],
   "source": [
    "@ray.remote\n",
    "def f(i):\n",
    "    np.random.seed(5 + i)\n",
    "    x = np.random.uniform(0, 4)\n",
    "    time.sleep(x)\n",
    "    return i, time.time()"
   ],
   "metadata": {
    "collapsed": false
   },
   "id": "f074581413569513",
   "execution_count": 32
  },
  {
   "cell_type": "markdown",
   "source": [
    "**EXERCISE:** Using `ray.wait`, change the code below so that `initial_results` consists of the outputs of the first three tasks to complete instead of the first three tasks that were submitted."
   ],
   "metadata": {
    "collapsed": false
   },
   "id": "e1d5df3925dc3632"
  },
  {
   "cell_type": "code",
   "outputs": [],
   "source": [
    "# Sleep a little to improve the accuracy of the timing measurements below.\n",
    "time.sleep(2.0)\n",
    "start_time = time.time()\n",
    "\n",
    "# This launches 6 tasks, each of which takes a random amount of time to\n",
    "# complete.\n",
    "result_ids = [f.remote(i) for i in range(6)]\n",
    "\n",
    "# Get one batch of tasks. Instead of waiting for a fixed subset of tasks, we\n",
    "# should instead use the first 3 tasks that finish.\n",
    "\n",
    "# initial_results = ray.get(result_ids[:3])\n",
    "ready_ids, remaining_ids = ray.wait(result_ids, num_returns=3, timeout=None)\n",
    "initial_results = ray.get(ready_ids)\n",
    "\n",
    "end_time = time.time()\n",
    "duration = end_time - start_time"
   ],
   "metadata": {
    "collapsed": false
   },
   "id": "8bc87828350d4f8",
   "execution_count": 36
  },
  {
   "cell_type": "markdown",
   "source": [
    "**EXERCISE:** Change the code below so that `remaining_results` consists of the outputs of the last three tasks to complete."
   ],
   "metadata": {
    "collapsed": false
   },
   "id": "bc690fab568a7b2c"
  },
  {
   "cell_type": "code",
   "outputs": [],
   "source": [
    "# Wait for the remaining tasks to complete.\n",
    "\n",
    "# remaining_results = ray.get(result_ids[3:])\n",
    "remaining_results = ray.get(remaining_ids)"
   ],
   "metadata": {
    "collapsed": false
   },
   "id": "f572438b64f3109e",
   "execution_count": 37
  },
  {
   "cell_type": "markdown",
   "source": [
    "**VERIFY:** Run some checks to verify that the changes you made to the code were correct. Some of the checks should fail when you initially run the cells. After completing the exercises, the checks should pass."
   ],
   "metadata": {
    "collapsed": false
   },
   "id": "bc3963e7a331d603"
  },
  {
   "cell_type": "code",
   "outputs": [
    {
     "name": "stdout",
     "output_type": "stream",
     "text": [
      "Success! The example took 0.9628689289093018 seconds.\n"
     ]
    }
   ],
   "source": [
    "assert len(initial_results) == 3\n",
    "assert len(remaining_results) == 3\n",
    "\n",
    "initial_indices = [result[0] for result in initial_results]\n",
    "initial_times = [result[1] for result in initial_results]\n",
    "remaining_indices = [result[0] for result in remaining_results]\n",
    "remaining_times = [result[1] for result in remaining_results]\n",
    "\n",
    "assert set(initial_indices + remaining_indices) == set(range(6))\n",
    "\n",
    "assert duration < 1.5, ('The initial batch of ten tasks was retrieved in '\n",
    "                        '{} seconds. This is too slow.'.format(duration))\n",
    "\n",
    "assert duration > 0.8, ('The initial batch of ten tasks was retrieved in '\n",
    "                        '{} seconds. This is too fast.'.format(duration))\n",
    "\n",
    "# Make sure the initial results actually completed first.\n",
    "assert max(initial_times) < min(remaining_times)\n",
    "\n",
    "print('Success! The example took {} seconds.'.format(duration))"
   ],
   "metadata": {
    "collapsed": false
   },
   "id": "7f868867384aa5d9",
   "execution_count": 38
  },
  {
   "cell_type": "markdown",
   "source": [
    "## Part 5 - Speed up Serialization\n",
    "\n",
    "**GOAL:** The goal of this exercise is to illustrate how to speed up serialization by using `ray.put`.\n",
    "\n",
    "### Concepts for this Exercise - ray.put\n",
    "\n",
    "Object IDs can be created in multiple ways.\n",
    "- They are returned by remote function calls.\n",
    "- They are returned by actor method calls.\n",
    "- They are returned by `ray.put`.\n",
    "\n",
    "When an object is passed to `ray.put`, the object is serialized using the Apache Arrow format (see https://arrow.apache.org/ for more information about Arrow) and copied into a shared memory object store. This object will then be available to other workers on the same machine via shared memory. If it is needed by workers on another machine, it will be shipped under the hood.\n",
    "\n",
    "**When objects are passed into a remote function, Ray puts them in the object store under the hood.** That is, if `f` is a remote function, the code\n",
    "\n",
    "```python\n",
    "x = np.zeros(1000)\n",
    "f.remote(x)\n",
    "```\n",
    "\n",
    "is essentially transformed under the hood to\n",
    "\n",
    "```python\n",
    "x = np.zeros(1000)\n",
    "x_id = ray.put(x)\n",
    "f.remote(x_id)\n",
    "```\n",
    "\n",
    "The call to `ray.put` copies the numpy array into the shared-memory object store, from where it can be read by all of the worker processes (without additional copying). However, if you do something like\n",
    "\n",
    "```python\n",
    "for i in range(10):\n",
    "    f.remote(x)\n",
    "```\n",
    "\n",
    "then 10 copies of the array will be placed into the object store. This takes up more memory in the object store than is necessary, and it also takes time to copy the array into the object store over and over. This can be made more efficient by placing the array in the object store only once as follows.\n",
    "\n",
    "```python\n",
    "x_id = ray.put(x)\n",
    "for i in range(10):\n",
    "    f.remote(x_id)\n",
    "```\n",
    "\n",
    "In this exercise, you will speed up the code below and reduce the memory footprint by calling `ray.put` on the neural net weights before passing them into the remote functions.\n",
    "\n",
    "**WARNING:** This exercise requires a lot of memory to run. If this notebook is running within a Docker container, then the docker container must be started with a large shared-memory file system. This can be done by starting the docker container with the `--shm-size` flag."
   ],
   "metadata": {
    "collapsed": false
   },
   "id": "f6bb8c54778eae68"
  },
  {
   "cell_type": "code",
   "outputs": [],
   "source": [
    "neural_net_weights = {'variable{}'.format(i): np.random.normal(size=1000000)\n",
    "                      for i in range(50)}"
   ],
   "metadata": {
    "collapsed": false
   },
   "id": "60242482e441eeeb",
   "execution_count": 39
  },
  {
   "cell_type": "markdown",
   "source": [
    "**EXERCISE:** Compare the time required to serialize the neural net weights and copy them into the object store using Ray versus the time required to pickle and unpickle the weights. The big win should be with the time required for *deserialization*.\n",
    "\n",
    "Note that when you call `ray.put`, in addition to serializing the object, we are copying it into shared memory where it can be efficiently accessed by other workers on the same machine.\n",
    "\n",
    "**NOTE:** You don't actually have to do anything here other than run the cell below and read the output.\n",
    "\n",
    "**NOTE:** Sometimes `ray.put` can be faster than `pickle.dumps`. This is because `ray.put` leverages multiple threads when serializing large objects. Note that this is not possible with `pickle`."
   ],
   "metadata": {
    "collapsed": false
   },
   "id": "5e201ddd40933862"
  },
  {
   "cell_type": "code",
   "outputs": [
    {
     "name": "stdout",
     "output_type": "stream",
     "text": [
      "Ray - serializing\n",
      "CPU times: total: 2.22 s\n",
      "Wall time: 16.6 s\n",
      "\n",
      "Ray - deserializing\n",
      "CPU times: total: 141 ms\n",
      "Wall time: 139 ms\n",
      "\n",
      "pickle - serializing\n",
      "CPU times: total: 4.78 s\n",
      "Wall time: 9.81 s\n",
      "\n",
      "pickle - deserializing\n",
      "CPU times: total: 203 ms\n",
      "Wall time: 216 ms\n"
     ]
    }
   ],
   "source": [
    "print('Ray - serializing')\n",
    "%time x_id = ray.put(neural_net_weights)\n",
    "print('\\nRay - deserializing')\n",
    "%time x_val = ray.get(x_id)\n",
    "\n",
    "print('\\npickle - serializing')\n",
    "%time serialized = pickle.dumps(neural_net_weights)\n",
    "print('\\npickle - deserializing')\n",
    "%time deserialized = pickle.loads(serialized)"
   ],
   "metadata": {
    "collapsed": false
   },
   "id": "a54d5c96fbb07160",
   "execution_count": 40
  },
  {
   "cell_type": "markdown",
   "source": [
    "Define a remote function which uses the neural net weights."
   ],
   "metadata": {
    "collapsed": false
   },
   "id": "79881ec1b5f3edab"
  },
  {
   "cell_type": "code",
   "outputs": [],
   "source": [
    "@ray.remote\n",
    "def use_weights(weights, i):\n",
    "    len(weights)\n",
    "    return i"
   ],
   "metadata": {
    "collapsed": false
   },
   "id": "878a4b621cc8d7f8",
   "execution_count": 41
  },
  {
   "cell_type": "markdown",
   "source": [
    "**EXERCISE:** In the code below, use `ray.put` to avoid copying the neural net weights to the object store multiple times."
   ],
   "metadata": {
    "collapsed": false
   },
   "id": "7490b7fc637eee85"
  },
  {
   "cell_type": "code",
   "outputs": [],
   "source": [
    "# Sleep a little to improve the accuracy of the timing measurements below.\n",
    "time.sleep(2.0)\n",
    "start_time = time.time()\n",
    "\n",
    "# results = ray.get([use_weights.remote(neural_net_weights, i)\n",
    "#                    for i in range(20)])\n",
    "\n",
    "weights_ids = ray.put(neural_net_weights)\n",
    "\n",
    "results = ray.get([use_weights.remote(weights_ids, i)\n",
    "                   for i in range(20)])\n",
    "\n",
    "end_time = time.time()\n",
    "duration = end_time - start_time"
   ],
   "metadata": {
    "collapsed": false
   },
   "id": "a64f7226e496f9d1",
   "execution_count": 46
  },
  {
   "cell_type": "markdown",
   "source": [
    "**VERIFY:** Run some checks to verify that the changes you made to the code were correct. Some of the checks should fail when you initially run the cells. After completing the exercises, the checks should pass."
   ],
   "metadata": {
    "collapsed": false
   },
   "id": "ac5a46dfaf9b4496"
  },
  {
   "cell_type": "code",
   "outputs": [
    {
     "name": "stdout",
     "output_type": "stream",
     "text": [
      "Success! The example took 0.6374473571777344 seconds.\n"
     ]
    }
   ],
   "source": [
    "assert results == list(range(20))\n",
    "assert duration < 1, ('The experiments ran in {} seconds. This is too '\n",
    "                      'slow.'.format(duration))\n",
    "\n",
    "print('Success! The example took {} seconds.'.format(duration))"
   ],
   "metadata": {
    "collapsed": false
   },
   "id": "b487df9262dbda79",
   "execution_count": 47
  },
  {
   "cell_type": "code",
   "outputs": [
    {
     "name": "stdout",
     "output_type": "stream",
     "text": [
      "parameter server\n",
      "Actor(ParameterSever, 85f0b70e1ab6b734757eb5cb01000000)\n",
      "Initial params: [0. 0. 0. 0. 0. 0. 0. 0. 0. 0.]\n",
      "[ObjectRef(db682a6225df6b7bffffffffffffffffffffffff0100000001000000), ObjectRef(84a35b042e7c1f96ffffffffffffffffffffffff0100000001000000), ObjectRef(f13d10a8c5768e73ffffffffffffffffffffffff0100000001000000)]\n",
      "Updated params: [0. 0. 0. 0. 0. 0. 0. 0. 0. 0.]\n",
      "Updated params: [0. 0. 0. 0. 0. 0. 0. 0. 0. 0.]\n",
      "Updated params: [-35. -58. -21. -61. -39. -38. -32. -45. -21. -59.]\n",
      "Updated params: [-35. -58. -21. -61. -39. -38. -32. -45. -21. -59.]\n",
      "Updated params: [ -92. -116.  -73.  -98.  -82.  -79.  -80.  -65.  -67. -109.]\n",
      "Updated params: [-135. -143. -131. -144. -113. -110. -160. -144. -109. -178.]\n",
      "Updated params: [-170. -192. -172. -165. -146. -155. -180. -191. -141. -191.]\n",
      "Updated params: [-170. -192. -172. -165. -146. -155. -180. -191. -141. -191.]\n",
      "Updated params: [-207. -216. -238. -211. -205. -181. -229. -243. -213. -230.]\n",
      "Updated params: [-247. -265. -268. -256. -238. -237. -300. -289. -233. -255.]\n",
      "Updated params: [-247. -265. -268. -256. -238. -237. -300. -289. -233. -255.]\n",
      "Updated params: [-277. -292. -299. -276. -270. -278. -355. -345. -285. -326.]\n",
      "Updated params: [-307. -349. -339. -286. -317. -325. -381. -379. -339. -378.]\n",
      "Updated params: [-307. -349. -339. -286. -317. -325. -381. -379. -339. -378.]\n",
      "Updated params: [-324. -396. -373. -326. -357. -348. -430. -414. -371. -409.]\n",
      "Updated params: [-376. -429. -396. -355. -404. -389. -453. -445. -420. -443.]\n",
      "Updated params: [-376. -429. -396. -355. -404. -389. -453. -445. -420. -443.]\n",
      "Updated params: [-423. -482. -438. -407. -458. -443. -490. -491. -475. -500.]\n",
      "Updated params: [-433. -518. -453. -453. -509. -493. -528. -522. -540. -564.]\n",
      "Updated params: [-433. -518. -453. -453. -509. -493. -528. -522. -540. -564.]\n"
     ]
    }
   ],
   "source": [
    "# Example: Parameter Server distributed application with Ray Actors\n",
    "# Problem: We want to update weights and gradients, computed by workers, at a central server.\n",
    "# Let's use Python class and convert that to a remote Actor class actor as a Parameter Server.\n",
    "# This is a common example in machine learning where you have a central\n",
    "# Parameter server updating gradients from other worker processes computing individual gradients.\n",
    "\n",
    "print('parameter server')\n",
    "@ray.remote\n",
    "class ParameterSever:\n",
    "    def __init__(self):\n",
    "        # Initialized our gradients to zero\n",
    "        self.params = np.zeros(10)\n",
    "\n",
    "    def get_params(self):\n",
    "        # Return current gradients\n",
    "        return self.params\n",
    "\n",
    "    def update_params(self, grad):\n",
    "        # Update the gradients\n",
    "        self.params -= grad\n",
    "\n",
    "# Define a worker or task as a function for a remote Worker. This could be a\n",
    "# machine learning function that computes gradients and sends them to\n",
    "# the parameter server.\n",
    "\n",
    "@ray.remote\n",
    "def worker(ps):         # It takes an actor handle or instance as an argument\n",
    "    # Iterate over some epoch\n",
    "    for i in range(25):\n",
    "        time.sleep(1.5)  # this could be your loss function computing gradients\n",
    "        #grad = np.ones(10)\n",
    "        from numpy import random\n",
    "        grad = random.randint(30, size=(10))\n",
    "        # update the gradients in the parameter server\n",
    "        ps.update_params.remote(grad)\n",
    "\n",
    "# Start our Parameter Server actor. This will be scheduled as a worker process\n",
    "# on a remote Ray node. You invoke its ActorClass.remote(...) to instantiate an\n",
    "# Actor instance of that type.\n",
    "\n",
    "param_server = ParameterSever.remote()\n",
    "print(param_server)\n",
    "\n",
    "# Let's get the initial values of the parameter server\n",
    "print(f\"Initial params: {ray.get(param_server.get_params.remote())}\")\n",
    "\n",
    "# Create Workers remote tasks computing gradients\n",
    "# Let's create three separate worker tasks as our machine learning tasks\n",
    "# that compute gradients. These will be scheduled as tasks on a Ray cluster.\n",
    "\n",
    "# You can use list comprehension.\n",
    "# If we need more workers to scale, we can always bump them up.\n",
    "# Note: We are sending the parameter_server as an argument to the remote worker task.\n",
    "\n",
    "print([worker.remote(param_server) for _ in range(3)])\n",
    "\n",
    "# Now, let's iterate over a loop and query the Parameter Server as the\n",
    "# workers are running independently and updating the gradients\n",
    "\n",
    "for _i in range(20):\n",
    "    print(f\"Updated params: {ray.get(param_server.get_params.remote())}\")\n",
    "    time.sleep(1)"
   ],
   "metadata": {
    "collapsed": false
   },
   "id": "aa9f3cdf9f18063d",
   "execution_count": 48
  },
  {
   "cell_type": "markdown",
   "source": [
    "## Part 6 - Compute Pi using Monte Carlo method\n",
    "**Excercise:** Based on the previous example, create an actor-based system that can compute Pi using the Monte Carlo method. There should be one supervising actor and computing tasks/actors. \n",
    "\n",
    "Hint: take a look on https://docs.ray.io/en/latest/ray-core/examples/monte_carlo_pi.html . However, we do not want to have progress listed. Instead, we want to see as we get closer to the Pi value in each round.\n",
    "\n",
    "\n",
    "![monte-carlo](img/monte_carlo_pi_sma.png)\n"
   ],
   "metadata": {
    "collapsed": false
   },
   "id": "e33ffc2cadd7be89"
  },
  {
   "cell_type": "code",
   "outputs": [
    {
     "name": "stderr",
     "output_type": "stream",
     "text": [
      "2024-04-21 14:53:03,708\tINFO worker.py:1567 -- Connecting to existing Ray cluster at address: 127.0.0.1:6379...\n",
      "2024-04-21 14:53:03,752\tINFO worker.py:1743 -- Connected to Ray cluster. View the dashboard at \u001B[1m\u001B[32m127.0.0.1:8265 \u001B[39m\u001B[22m\n"
     ]
    },
    {
     "name": "stdout",
     "output_type": "stream",
     "text": [
      "Estimation after 4000000 samples - 0%: 3.14054, abs error: 0.0010526535897930067\n",
      "Estimation after 8000000 samples - 0%: 3.1409025, abs error: 0.0006901535897929634\n",
      "Estimation after 16000000 samples - 1%: 3.1416909333333334, abs error: 9.827974354026381e-05\n",
      "Estimation after 20000000 samples - 2%: 3.1420246, abs error: 0.00043194641020694036\n",
      "Estimation after 24000000 samples - 2%: 3.1418456666666668, abs error: 0.0002530130768736427\n",
      "Estimation after 28000000 samples - 2%: 3.1419284285714286, abs error: 0.000335774981635506\n",
      "Estimation after 34000000 samples - 3%: 3.141887393939394, abs error: 0.00029474034960097484\n",
      "Estimation after 38000000 samples - 3%: 3.1417888421052633, abs error: 0.0001961885154702081\n",
      "Estimation after 44000000 samples - 4%: 3.1419273636363636, abs error: 0.00033471004657048553\n",
      "Estimation after 48000000 samples - 4%: 3.14196, abs error: 0.0003673464102069701\n",
      "Estimation after 52000000 samples - 5%: 3.141946, abs error: 0.0003533464102067896\n",
      "Estimation after 60000000 samples - 6%: 3.1419796, abs error: 0.0003869464102068676\n",
      "Estimation after 64000000 samples - 6%: 3.1419104375, abs error: 0.00031778391020687025\n",
      "Estimation after 68000000 samples - 6%: 3.141907882352941, abs error: 0.0003152287631480455\n",
      "Estimation after 75000000 samples - 7%: 3.1418701621621623, abs error: 0.00027750857236918947\n",
      "Estimation after 80000000 samples - 8%: 3.1418283, abs error: 0.0002356464102066802\n",
      "Estimation after 84000000 samples - 8%: 3.1418141904761905, abs error: 0.00022153688639736657\n",
      "Estimation after 90000000 samples - 9%: 3.1417638222222224, abs error: 0.00017116863242927494\n",
      "Estimation after 96000000 samples - 9%: 3.1417970416666665, abs error: 0.00020438807687339633\n",
      "Estimation after 100000000 samples - 10%: 3.14182008, abs error: 0.00022742641020689902\n",
      "Estimation after 106000000 samples - 10%: 3.1417488, abs error: 0.00015614641020667008\n",
      "Estimation after 112000000 samples - 11%: 3.14166975, abs error: 7.709641020703373e-05\n",
      "Estimation after 116000000 samples - 11%: 3.141687172413793, abs error: 9.451882400002276e-05\n",
      "Estimation after 120000000 samples - 12%: 3.1416508, abs error: 5.814641020673861e-05\n",
      "Estimation after 126000000 samples - 12%: 3.141654688, abs error: 6.203441020691258e-05\n",
      "Estimation after 132000000 samples - 13%: 3.141618515151515, abs error: 2.5861561721907123e-05\n",
      "Estimation after 136000000 samples - 13%: 3.1415785882352942, abs error: 1.4065354498882243e-05\n",
      "Estimation after 142000000 samples - 14%: 3.1415581690140844, abs error: 3.4484575708759735e-05\n",
      "Estimation after 148000000 samples - 14%: 3.1415617027027025, abs error: 3.0950887090597234e-05\n",
      "Estimation after 152000000 samples - 15%: 3.141550105263158, abs error: 4.25483266353055e-05\n",
      "Estimation after 160000000 samples - 16%: 3.141572325, abs error: 2.032858979328367e-05\n",
      "Estimation after 164000000 samples - 16%: 3.141563073170732, abs error: 2.95804190613147e-05\n",
      "Estimation after 168000000 samples - 16%: 3.141552261904762, abs error: 4.039168503133794e-05\n",
      "Estimation after 173000000 samples - 17%: 3.141556554913295, abs error: 3.609867649823073e-05\n",
      "Estimation after 180000000 samples - 18%: 3.1415536444444445, abs error: 3.900914534860078e-05\n",
      "Estimation after 184000000 samples - 18%: 3.1415535869565216, abs error: 3.906663327146731e-05\n",
      "Estimation after 189000000 samples - 18%: 3.141554306878307, abs error: 3.834671148617019e-05\n",
      "Estimation after 196000000 samples - 19%: 3.1415778775510206, abs error: 1.477603877253486e-05\n",
      "Estimation after 200000000 samples - 20%: 3.14157126, abs error: 2.139358979302841e-05\n",
      "Estimation after 204000000 samples - 20%: 3.14157331372549, abs error: 1.9339864302914123e-05\n",
      "Estimation after 209000000 samples - 20%: 3.141549933014354, abs error: 4.272057543897034e-05\n",
      "Estimation after 216000000 samples - 21%: 3.141542037037037, abs error: 5.061655275628851e-05\n",
      "Estimation after 220000000 samples - 22%: 3.1415433454545454, abs error: 4.930813524772759e-05\n",
      "Estimation after 224000000 samples - 22%: 3.141558267857143, abs error: 3.4385732650132894e-05\n",
      "Estimation after 232000000 samples - 23%: 3.141560689655172, abs error: 3.196393462090441e-05\n",
      "Estimation after 236000000 samples - 23%: 3.1415720169491523, abs error: 2.0636640640780968e-05\n",
      "Estimation after 240000000 samples - 24%: 3.1415892166666666, abs error: 3.436923126542979e-06\n",
      "Estimation after 247000000 samples - 24%: 3.1415641295546557, abs error: 2.8524035137422743e-05\n",
      "Estimation after 252000000 samples - 25%: 3.141573111111111, abs error: 1.9542478681966458e-05\n",
      "Estimation after 256000000 samples - 25%: 3.141573546875, abs error: 1.910671479299353e-05\n",
      "Estimation after 261000000 samples - 26%: 3.1415687203065135, abs error: 2.3933283279653494e-05\n",
      "Estimation after 268000000 samples - 26%: 3.1415879402985074, abs error: 4.7132912857072995e-06\n",
      "Estimation after 272000000 samples - 27%: 3.1415713382352943, abs error: 2.131535449878541e-05\n",
      "Estimation after 277000000 samples - 27%: 3.141584188405797, abs error: 8.46518399599816e-06\n",
      "Estimation after 283000000 samples - 28%: 3.141585554770318, abs error: 7.09881947491553e-06\n",
      "Estimation after 288000000 samples - 28%: 3.1415941666666667, abs error: 1.513076873571606e-06\n",
      "Estimation after 292000000 samples - 29%: 3.1416074109589043, abs error: 1.4757369111162433e-05\n",
      "Estimation after 298000000 samples - 29%: 3.141613825503356, abs error: 2.1171913562767486e-05\n",
      "Estimation after 304000000 samples - 30%: 3.141608105263158, abs error: 1.5451673364808016e-05\n",
      "Estimation after 308000000 samples - 30%: 3.141601181818182, abs error: 8.528228388815506e-06\n",
      "Estimation after 313000000 samples - 31%: 3.1416000255591054, abs error: 7.371969312330862e-06\n",
      "Estimation after 320000000 samples - 32%: 3.1416118875, abs error: 1.9233910206750693e-05\n",
      "Estimation after 324000000 samples - 32%: 3.1415985432098767, abs error: 5.889620083632252e-06\n",
      "Estimation after 329000000 samples - 32%: 3.141607124620061, abs error: 1.4471030267859675e-05\n",
      "Estimation after 336000000 samples - 33%: 3.141604226190476, abs error: 1.1572600683074086e-05\n",
      "Estimation after 340000000 samples - 34%: 3.1415988, abs error: 6.14641020701967e-06\n",
      "Estimation after 345000000 samples - 34%: 3.141593495652174, abs error: 8.420623807126049e-07\n",
      "Estimation after 352000000 samples - 35%: 3.1415799772727273, abs error: 1.2676317065807297e-05\n",
      "Estimation after 356000000 samples - 35%: 3.141565404494382, abs error: 2.724909541118592e-05\n",
      "Estimation after 361000000 samples - 36%: 3.1415750027700833, abs error: 1.765081970983573e-05\n",
      "Estimation after 367000000 samples - 36%: 3.141586430517711, abs error: 6.223072082089942e-06\n",
      "Estimation after 372000000 samples - 37%: 3.1415761612903226, abs error: 1.649229947053854e-05\n",
      "Estimation after 376000000 samples - 37%: 3.141578744680851, abs error: 1.3908908941928644e-05\n",
      "Estimation after 382000000 samples - 38%: 3.141594712041885, abs error: 2.0584520918909277e-06\n",
      "Estimation after 388000000 samples - 38%: 3.141589680412371, abs error: 2.973177422038731e-06\n",
      "Estimation after 392000000 samples - 39%: 3.141594081632653, abs error: 1.428042859963341e-06\n",
      "Estimation after 397000000 samples - 39%: 3.141604, abs error: 1.1346410206947155e-05\n",
      "Estimation after 404000000 samples - 40%: 3.1415879405940594, abs error: 4.712995733680003e-06\n",
      "Estimation after 408000000 samples - 40%: 3.141595794117647, abs error: 3.1405278537732784e-06\n",
      "Estimation after 413000000 samples - 41%: 3.1416058014527843, abs error: 1.3147862991225168e-05\n",
      "Estimation after 420000000 samples - 42%: 3.1416088857142856, abs error: 1.6232124492532307e-05\n",
      "Estimation after 424000000 samples - 42%: 3.1416004433962263, abs error: 7.789806433233792e-06\n",
      "Estimation after 429000000 samples - 42%: 3.14160179020979, abs error: 9.136619997018869e-06\n",
      "Estimation after 436000000 samples - 43%: 3.141602577981651, abs error: 9.924391858096016e-06\n",
      "Estimation after 440000000 samples - 44%: 3.1416033363636364, abs error: 1.0682773843306848e-05\n",
      "Estimation after 445000000 samples - 44%: 3.141602975280899, abs error: 1.0321691105819042e-05\n",
      "Estimation after 450000000 samples - 45%: 3.1415997066666668, abs error: 7.053076873653197e-06\n",
      "Estimation after 456000000 samples - 45%: 3.1416055701754386, abs error: 1.2916585645506018e-05\n",
      "Estimation after 460000000 samples - 46%: 3.1416068, abs error: 1.4146410206805626e-05\n",
      "Estimation after 466000000 samples - 46%: 3.14160669527897, abs error: 1.4041689176735872e-05\n",
      "Estimation after 472000000 samples - 47%: 3.141613618644068, abs error: 2.0965054274846295e-05\n",
      "Estimation after 476000000 samples - 47%: 3.141613613445378, abs error: 2.0959855584923304e-05\n",
      "Estimation after 480000000 samples - 48%: 3.14160905, abs error: 1.6396410206898082e-05\n",
      "Estimation after 487000000 samples - 48%: 3.141608888888889, abs error: 1.6235299095779254e-05\n",
      "Estimation after 492000000 samples - 49%: 3.1416135284552844, abs error: 2.0874865491293804e-05\n",
      "Estimation after 496000000 samples - 49%: 3.1416184838709675, abs error: 2.5830281174421543e-05\n",
      "Estimation after 502000000 samples - 50%: 3.1416081354581675, abs error: 1.548186837441179e-05\n",
      "Estimation after 508000000 samples - 50%: 3.141603062992126, abs error: 1.040940233298926e-05\n",
      "Estimation after 512000000 samples - 51%: 3.1416043671875, abs error: 1.1713597706908274e-05\n",
      "Estimation after 518000000 samples - 51%: 3.141589104247104, abs error: 3.5493426890909063e-06\n",
      "Estimation after 524000000 samples - 52%: 3.1415938396946563, abs error: 1.1861048632155757e-06\n",
      "Estimation after 528000000 samples - 52%: 3.1415960833333334, abs error: 3.429743540284136e-06\n",
      "Estimation after 535000000 samples - 53%: 3.141604897196262, abs error: 1.224360646867595e-05\n",
      "Estimation after 540000000 samples - 54%: 3.1415927703703703, abs error: 1.1678057720843071e-07\n",
      "Estimation after 546000000 samples - 54%: 3.1415879119266057, abs error: 4.741663187424194e-06\n",
      "Estimation after 552000000 samples - 55%: 3.1415920507246375, abs error: 6.028651555745057e-07\n",
      "Estimation after 556000000 samples - 55%: 3.1415911726618706, abs error: 1.480927922514752e-06\n",
      "Estimation after 563000000 samples - 56%: 3.1415873605683835, abs error: 5.29302140961363e-06\n",
      "Estimation after 568000000 samples - 56%: 3.1415978450704225, abs error: 5.191480629385126e-06\n",
      "Estimation after 572000000 samples - 57%: 3.141593979020979, abs error: 1.3254311856947254e-06\n",
      "Estimation after 577000000 samples - 57%: 3.1415894305555554, abs error: 3.2230342377204124e-06\n",
      "Estimation after 583000000 samples - 58%: 3.141592960548885, abs error: 3.069590919224652e-07\n",
      "Estimation after 588000000 samples - 58%: 3.141593183673469, abs error: 5.300836760646632e-07\n",
      "Estimation after 593000000 samples - 59%: 3.1415837908937605, abs error: 8.8626960326188e-06\n",
      "Estimation after 599000000 samples - 59%: 3.141574964941569, abs error: 1.7688648223934678e-05\n",
      "Estimation after 604000000 samples - 60%: 3.1415753576158942, abs error: 1.7295973898878714e-05\n",
      "Estimation after 608000000 samples - 60%: 3.1415682434210526, abs error: 2.4410168740551796e-05\n",
      "Estimation after 614000000 samples - 61%: 3.1415730553745926, abs error: 1.959821520047811e-05\n",
      "Estimation after 619000000 samples - 61%: 3.1415811760904684, abs error: 1.147749932473019e-05\n",
      "Estimation after 624000000 samples - 62%: 3.1415816282051283, abs error: 1.1025384664797855e-05\n",
      "Estimation after 630000000 samples - 63%: 3.141595523809524, abs error: 2.870219730777279e-06\n",
      "Estimation after 635000000 samples - 63%: 3.141596548031496, abs error: 3.894441702900764e-06\n",
      "Estimation after 640000000 samples - 64%: 3.1415972, abs error: 4.546410206973661e-06\n",
      "Estimation after 644000000 samples - 64%: 3.1416008198757766, abs error: 8.166285983435273e-06\n",
      "Estimation after 650000000 samples - 65%: 3.141601089230769, abs error: 8.435640975967829e-06\n",
      "Estimation after 655000000 samples - 65%: 3.141603230534351, abs error: 1.0576944557971757e-05\n",
      "Estimation after 660000000 samples - 66%: 3.1416074666666667, abs error: 1.4813076873565478e-05\n",
      "Estimation after 666000000 samples - 66%: 3.141597375375375, abs error: 4.721785582084692e-06\n",
      "Estimation after 671000000 samples - 67%: 3.141602694485842, abs error: 1.004089604883518e-05\n",
      "Estimation after 676000000 samples - 67%: 3.141603875739645, abs error: 1.122214985205261e-05\n",
      "Estimation after 682000000 samples - 68%: 3.1415995007342143, abs error: 6.847144421229245e-06\n",
      "Estimation after 687000000 samples - 68%: 3.1415964890829695, abs error: 3.835493176396199e-06\n",
      "Estimation after 692000000 samples - 69%: 3.1415986589595377, abs error: 6.00536974459942e-06\n",
      "Estimation after 697000000 samples - 69%: 3.1415928034433285, abs error: 1.4985353535834633e-07\n",
      "Estimation after 703000000 samples - 70%: 3.1415894623044096, abs error: 3.1912853835081023e-06\n",
      "Estimation after 708000000 samples - 70%: 3.1415884576271185, abs error: 4.195962674646836e-06\n",
      "Estimation after 713000000 samples - 71%: 3.14159283029453, abs error: 1.767047370648811e-07\n",
      "Estimation after 718000000 samples - 71%: 3.141588635097493, abs error: 4.018492300250642e-06\n",
      "Estimation after 724000000 samples - 72%: 3.1415937127071825, abs error: 1.0591173893459427e-06\n",
      "Estimation after 728000000 samples - 72%: 3.1415924945054945, abs error: 1.5908429862321327e-07\n",
      "Estimation after 734000000 samples - 73%: 3.141587727520436, abs error: 4.926069357313878e-06\n",
      "Estimation after 739000000 samples - 73%: 3.141585179972936, abs error: 7.473616856934484e-06\n",
      "Estimation after 744000000 samples - 74%: 3.141583489247312, abs error: 9.164342481327026e-06\n",
      "Estimation after 748000000 samples - 74%: 3.141582486631016, abs error: 1.0166958777091395e-05\n",
      "Estimation after 753000000 samples - 75%: 3.1415758884462153, abs error: 1.6765143577845976e-05\n",
      "Estimation after 758000000 samples - 75%: 3.1415790765171505, abs error: 1.3577072642600996e-05\n",
      "Estimation after 764000000 samples - 76%: 3.141579670157068, abs error: 1.2983432724933408e-05\n",
      "Estimation after 769000000 samples - 76%: 3.1415857841352404, abs error: 6.869454552749232e-06\n",
      "Estimation after 774000000 samples - 77%: 3.1415885374677, abs error: 4.116122092945318e-06\n",
      "Estimation after 780000000 samples - 78%: 3.1415941333333333, abs error: 1.4797435401447956e-06\n",
      "Estimation after 784000000 samples - 78%: 3.1415892653061226, abs error: 3.3882836705245722e-06\n",
      "Estimation after 790000000 samples - 79%: 3.141598992405063, abs error: 6.3388152700127876e-06\n",
      "Estimation after 795000000 samples - 79%: 3.1416019974842766, abs error: 9.343894483482273e-06\n",
      "Estimation after 800000000 samples - 80%: 3.14160058, abs error: 7.926410206859913e-06\n",
      "Estimation after 806000000 samples - 80%: 3.141607622828784, abs error: 1.496923899102498e-05\n",
      "Estimation after 812000000 samples - 81%: 3.1416152019704433, abs error: 2.254838065018916e-05\n",
      "Estimation after 817000000 samples - 81%: 3.1416100024479805, abs error: 1.7348858187382632e-05\n",
      "Estimation after 822000000 samples - 82%: 3.14160996593674, abs error: 1.7312346946685153e-05\n",
      "Estimation after 828000000 samples - 82%: 3.1416092173913044, abs error: 1.6563801511271237e-05\n",
      "Estimation after 833000000 samples - 83%: 3.141605911164466, abs error: 1.3257574672742578e-05\n",
      "Estimation after 838000000 samples - 83%: 3.1416038902147974, abs error: 1.1236625004240608e-05\n",
      "Estimation after 844000000 samples - 84%: 3.1416033033175355, abs error: 1.0649727742340076e-05\n",
      "Estimation after 849000000 samples - 84%: 3.1416074393404005, abs error: 1.4785750607426706e-05\n",
      "Estimation after 855000000 samples - 85%: 3.141600140350877, abs error: 7.4867610839746135e-06\n",
      "Estimation after 860000000 samples - 86%: 3.1415970976744187, abs error: 4.444084625632172e-06\n",
      "Estimation after 865000000 samples - 86%: 3.1415914589595375, abs error: 1.1946302556076205e-06\n",
      "Estimation after 869000000 samples - 86%: 3.141593178365938, abs error: 5.247761447613186e-07\n",
      "Estimation after 875000000 samples - 87%: 3.141593728, abs error: 1.0744102070248118e-06\n",
      "Estimation after 880000000 samples - 88%: 3.1415928318181816, abs error: 1.7822838849212985e-07\n",
      "Estimation after 885000000 samples - 88%: 3.141599150282486, abs error: 6.496692692703476e-06\n",
      "Estimation after 891000000 samples - 89%: 3.14160496969697, abs error: 1.2316107176779667e-05\n",
      "Estimation after 895000000 samples - 89%: 3.1416013005586594, abs error: 8.646968866266036e-06\n",
      "Estimation after 901000000 samples - 90%: 3.141600692563818, abs error: 8.038974024682233e-06\n",
      "Estimation after 906000000 samples - 90%: 3.141598357615894, abs error: 5.704026100783466e-06\n",
      "Estimation after 911000000 samples - 91%: 3.14159869154775, abs error: 6.037957956728235e-06\n",
      "Estimation after 917000000 samples - 91%: 3.141588427480916, abs error: 4.226108877070089e-06\n",
      "Estimation after 921000000 samples - 92%: 3.1415823235613463, abs error: 1.0330028446858819e-05\n",
      "Estimation after 925000000 samples - 92%: 3.14158288, abs error: 9.77358979303844e-06\n",
      "Estimation after 931000000 samples - 93%: 3.1415857443609023, abs error: 6.909228890794594e-06\n",
      "Estimation after 937000000 samples - 93%: 3.1415885677694773, abs error: 4.085820315857802e-06\n",
      "Estimation after 941000000 samples - 94%: 3.141579974495218, abs error: 1.2679094575140937e-05\n",
      "Estimation after 947000000 samples - 94%: 3.141577850052798, abs error: 1.4803536994900668e-05\n",
      "Estimation after 951000000 samples - 95%: 3.1415744647739223, abs error: 1.818881587078991e-05\n",
      "Estimation after 957000000 samples - 95%: 3.141568802507837, abs error: 2.385108195612773e-05\n",
      "Estimation after 961000000 samples - 96%: 3.1415685993756504, abs error: 2.405421414275466e-05\n",
      "Estimation after 967000000 samples - 96%: 3.1415657993795243, abs error: 2.6854210268822953e-05\n",
      "Estimation after 972000000 samples - 97%: 3.141560358393409, abs error: 3.229519638425771e-05\n",
      "Estimation after 977000000 samples - 97%: 3.141552040941658, abs error: 4.0612648135152085e-05\n",
      "Estimation after 983000000 samples - 98%: 3.14155700508647, abs error: 3.564850332304914e-05\n",
      "Estimation after 987000000 samples - 98%: 3.141555902735562, abs error: 3.6750854230938046e-05\n",
      "Estimation after 993000000 samples - 99%: 3.141559166163142, abs error: 3.348742665121307e-05\n",
      "Estimation after 997000000 samples - 99%: 3.141558651955868, abs error: 3.400163392530686e-05\n",
      "Estimation after 1000000000 samples - 100%: 3.141556148, abs error: 3.650558979328977e-05\n"
     ]
    }
   ],
   "source": [
    "import time\n",
    "import ray\n",
    "import math\n",
    "import random\n",
    "\n",
    "if ray.is_initialized:\n",
    "    ray.shutdown()\n",
    "\n",
    "ray.init(ignore_reinit_error=True)\n",
    "\n",
    "@ray.remote\n",
    "class ProgressActor:\n",
    "    def __init__(self, SAMPLES_PER_TASK: int, TASKS: int):\n",
    "        self.total_in = 0\n",
    "        self.total_count = 0\n",
    "        self.SAMPLES_PER_TASK = SAMPLES_PER_TASK\n",
    "        self.TASKS = TASKS\n",
    "\n",
    "    def report_progress(self, total_count: int, in_count: int):\n",
    "        self.total_count += total_count\n",
    "        self.total_in += in_count\n",
    "\n",
    "    def get_state(self):\n",
    "        return self.total_in, self.total_count\n",
    "\n",
    "    def estimate_pi(self):\n",
    "        if self.total_count == 0: return 0\n",
    "        return (self.total_in * 4) / self.total_count\n",
    "\n",
    "    def get_progress(self):\n",
    "        progress = self.total_count / (self.SAMPLES_PER_TASK * self.TASKS)\n",
    "        return int(progress * 100)\n",
    "\n",
    "@ray.remote\n",
    "def sampling_task(num_samples: int, progress_actor: ray.actor.ActorHandle) -> int:\n",
    "    num_inside = 0\n",
    "    for i in range(num_samples):\n",
    "        x, y = random.uniform(-1, 1), random.uniform(-1, 1)\n",
    "        if math.hypot(x, y) <= 1:\n",
    "            num_inside += 1\n",
    "\n",
    "    progress_actor.report_progress.remote(num_samples, num_inside)\n",
    "    return num_inside\n",
    "\n",
    "\n",
    "def approx_pi():\n",
    "\n",
    "    SAMPLES_PER_TASK = 1_000_000\n",
    "    TASKS = 1000\n",
    "\n",
    "    progress_actor = ProgressActor.remote(SAMPLES_PER_TASK, TASKS)\n",
    "\n",
    "    task_refs = [\n",
    "        sampling_task.remote(SAMPLES_PER_TASK, progress_actor)\n",
    "        for i in range(TASKS)\n",
    "    ]\n",
    "\n",
    "    while True:\n",
    "\n",
    "        progress = ray.get(progress_actor.get_progress.remote())\n",
    "\n",
    "        pi_estimation = ray.get(progress_actor.estimate_pi.remote())\n",
    "        total_in, total_count = ray.get(progress_actor.get_state.remote())\n",
    "        print(f'Estimation after {total_count} samples - {progress}%: {pi_estimation}, abs error: {abs(pi_estimation - math.pi)}')\n",
    "\n",
    "        if progress >= 100: break\n",
    "        time.sleep(2)\n",
    "\n",
    "approx_pi()"
   ],
   "metadata": {
    "collapsed": false,
    "ExecuteTime": {
     "end_time": "2024-03-26T14:47:10.433505900Z",
     "start_time": "2024-03-26T14:47:10.396512Z"
    }
   },
   "id": "6f48a5bffd5f672b",
   "execution_count": 1
  },
  {
   "cell_type": "markdown",
   "source": [
    "## Part 7 - Parallel merge sort (homework)\n",
    "**Excercise:** Based on the previous examples, create a sequential and parallel implementation of the merge sort algorithm. You can choose any version of the parallel algorithm. Compare performance.\n"
   ],
   "metadata": {
    "collapsed": false
   },
   "id": "2579f4f51268ecf4"
  },
  {
   "cell_type": "code",
   "execution_count": 65,
   "outputs": [],
   "source": [
    "import time\n",
    "import ray\n",
    "import math\n",
    "import random\n",
    "import cProfile\n",
    "import pstats\n",
    "import os\n",
    "import numpy as np\n",
    "\n",
    "if ray.is_initialized:\n",
    "    ray.shutdown()\n",
    "\n",
    "ray.init(ignore_reinit_error=True)\n",
    "\n",
    "cpu_count = os.cpu_count()\n",
    "\n",
    "def merge(left, right):\n",
    "    merged = []\n",
    "    left_idx, right_idx = 0, 0\n",
    "    while left_idx < len(left) and right_idx < len(right):\n",
    "        if left[left_idx] < right[right_idx]:\n",
    "            merged.append(left[left_idx])\n",
    "            left_idx += 1\n",
    "        else:\n",
    "            merged.append(right[right_idx])\n",
    "            right_idx += 1\n",
    "    merged.extend(left[left_idx:])\n",
    "    merged.extend(right[right_idx:])\n",
    "    return merged\n",
    "\n",
    "\n",
    "def merge_sort(arr):\n",
    "    if len(arr) <= 1: return arr\n",
    "    mid = len(arr) // 2\n",
    "    left = merge_sort(arr[:mid])\n",
    "    right = merge_sort(arr[mid:])\n",
    "    return merge(left, right)\n",
    "\n",
    "@ray.remote\n",
    "def merge_sort_distributed(arr):\n",
    "    arr = np.array(arr, copy=True)\n",
    "    return merge_sort(arr)\n",
    "\n",
    "\n",
    "def run_local_sort(sequence_size):\n",
    "    results = [merge_sort(np.random.randint(0, 10000, sequence_size)) for _ in range(cpu_count)]\n",
    "    return results\n",
    "\n",
    "def run_remote_sort(sequence_size):\n",
    "    results = ray.get(\n",
    "        [merge_sort_distributed.remote(np.random.randint(0, 10000, sequence_size)) for _ in range(cpu_count)])\n",
    "    return results\n",
    "\n",
    "sequence_size = 100000"
   ],
   "metadata": {
    "collapsed": false
   }
  },
  {
   "cell_type": "code",
   "execution_count": 59,
   "outputs": [
    {
     "name": "stdout",
     "output_type": "stream",
     "text": [
      "Local merge sort:\n",
      "Sat Apr 20 17:37:46 2024    local_sort_stats\n",
      "\n",
      "         22216050 function calls (21416058 primitive calls) in 19.213 seconds\n",
      "\n"
     ]
    },
    {
     "data": {
      "text/plain": "<pstats.Stats at 0x1c0f1494210>"
     },
     "execution_count": 59,
     "metadata": {},
     "output_type": "execute_result"
    }
   ],
   "source": [
    "print('Local merge sort:')\n",
    "cProfile.run('run_local_sort(sequence_size)', 'local_sort_stats')\n",
    "local_stats = pstats.Stats('local_sort_stats')\n",
    "local_stats.strip_dirs().sort_stats(-1).print_stats(0)"
   ],
   "metadata": {
    "collapsed": false
   }
  },
  {
   "cell_type": "code",
   "execution_count": 71,
   "outputs": [
    {
     "name": "stdout",
     "output_type": "stream",
     "text": [
      "Distributed merge sort:\n",
      "Sat Apr 20 17:40:17 2024    remote_sort_stats\n",
      "\n",
      "         400971 function calls (400967 primitive calls) in 7.492 seconds\n",
      "\n"
     ]
    },
    {
     "data": {
      "text/plain": "<pstats.Stats at 0x1c0f33e2210>"
     },
     "execution_count": 71,
     "metadata": {},
     "output_type": "execute_result"
    }
   ],
   "source": [
    "print('Distributed merge sort:')\n",
    "cProfile.run('run_remote_sort(sequence_size)', 'remote_sort_stats')\n",
    "remote_stats = pstats.Stats('remote_sort_stats')\n",
    "remote_stats.strip_dirs().sort_stats(-1).print_stats(0)"
   ],
   "metadata": {
    "collapsed": false
   }
  },
  {
   "cell_type": "code",
   "execution_count": 6,
   "outputs": [
    {
     "name": "stderr",
     "output_type": "stream",
     "text": [
      "2024-04-21 15:13:20,848\tINFO worker.py:1567 -- Connecting to existing Ray cluster at address: 127.0.0.1:6379...\n",
      "2024-04-21 15:13:20,914\tINFO worker.py:1743 -- Connected to Ray cluster. View the dashboard at \u001B[1m\u001B[32m127.0.0.1:8265 \u001B[39m\u001B[22m\n"
     ]
    }
   ],
   "source": [
    "import ray\n",
    "import time\n",
    "import numpy as np\n",
    "from numpy import random\n",
    "import os\n",
    "import math\n",
    "import cProfile\n",
    "import pstats\n",
    "\n",
    "if ray.is_initialized:\n",
    "    ray.shutdown()\n",
    "\n",
    "ray.init(ignore_reinit_error=True)\n",
    "\n",
    "@ray.remote\n",
    "def merge_sort(arr):\n",
    "    if len(arr) <= 1:\n",
    "        return arr\n",
    "\n",
    "    mid = len(arr) // 2\n",
    "    left = merge_sort.remote(arr[:mid])\n",
    "    right = merge_sort.remote(arr[mid:])\n",
    "\n",
    "    return merge.remote(ray.get(left), ray.get(right))\n",
    "\n",
    "@ray.remote\n",
    "def merge(left, right):\n",
    "    merged = []\n",
    "    left_idx, right_idx = 0, 0\n",
    "\n",
    "    while left_idx < len(left) and right_idx < len(right):\n",
    "        if left[left_idx] < right[right_idx]:\n",
    "            merged.append(left[left_idx])\n",
    "            left_idx += 1\n",
    "        else:\n",
    "            merged.append(right[right_idx])\n",
    "            right_idx += 1\n",
    "\n",
    "    merged.extend(left[left_idx:])\n",
    "    merged.extend(right[right_idx:])\n",
    "\n",
    "    return merged\n",
    "\n",
    "def parallel_merge_sort(arr):\n",
    "    if len(arr) <= 1:\n",
    "        return arr\n",
    "\n",
    "    return ray.get(merge_sort.remote(arr))\n",
    "\n",
    "def merge_sort_sequential(arr):\n",
    "    if len(arr) <= 1:\n",
    "        return arr\n",
    "\n",
    "    mid = len(arr) // 2\n",
    "    left = merge_sort_sequential(arr[:mid])\n",
    "    right = merge_sort_sequential(arr[mid:])\n",
    "\n",
    "    return merge_sequential(left, right)\n",
    "\n",
    "def merge_sequential(left, right):\n",
    "    merged = []\n",
    "    left_idx, right_idx = 0, 0\n",
    "\n",
    "    while left_idx < len(left) and right_idx < len(right):\n",
    "        if left[left_idx] < right[right_idx]:\n",
    "            merged.append(left[left_idx])\n",
    "            left_idx += 1\n",
    "        else:\n",
    "            merged.append(right[right_idx])\n",
    "            right_idx += 1\n",
    "\n",
    "    merged.extend(left[left_idx:])\n",
    "    merged.extend(right[right_idx:])\n",
    "\n",
    "    return merged\n",
    "\n",
    "arr_large = np.random.randint(0, 1000000, size=1000000)"
   ],
   "metadata": {
    "collapsed": false
   }
  },
  {
   "cell_type": "code",
   "execution_count": null,
   "outputs": [],
   "source": [
    "start_time = time.time()\n",
    "sorted_arr_parallel = parallel_merge_sort(arr_large)\n",
    "end_time = time.time()\n",
    "print(\"Parallel merge sort time:\", end_time - start_time, \"seconds\")"
   ],
   "metadata": {
    "collapsed": false,
    "pycharm": {
     "is_executing": true
    }
   }
  },
  {
   "cell_type": "code",
   "execution_count": null,
   "outputs": [],
   "source": [
    "start_time = time.time()\n",
    "sorted_arr_sequential = merge_sort_sequential(arr_large)\n",
    "end_time = time.time()\n",
    "print(\"Sequential merge sort time:\", end_time - start_time, \"seconds\")"
   ],
   "metadata": {
    "collapsed": false
   }
  },
  {
   "cell_type": "code",
   "execution_count": null,
   "outputs": [],
   "source": [
    "print(\"Arrays equal?\", np.array_equal(sorted_arr_parallel, sorted_arr_sequential))"
   ],
   "metadata": {
    "collapsed": false
   }
  },
  {
   "cell_type": "markdown",
   "source": [
    "## Clean up  - Clean up the environemnt\n",
    "\n",
    "**GOAL:** The goal of this exercise is to close the environment once you finish play with ray `ray.shutdown`."
   ],
   "metadata": {
    "collapsed": false
   },
   "id": "61ff181af23dc9e0"
  },
  {
   "cell_type": "code",
   "execution_count": 1,
   "outputs": [
    {
     "ename": "NameError",
     "evalue": "name 'ray' is not defined",
     "output_type": "error",
     "traceback": [
      "\u001B[1;31m---------------------------------------------------------------------------\u001B[0m",
      "\u001B[1;31mNameError\u001B[0m                                 Traceback (most recent call last)",
      "Cell \u001B[1;32mIn[1], line 1\u001B[0m\n\u001B[1;32m----> 1\u001B[0m \u001B[43mray\u001B[49m\u001B[38;5;241m.\u001B[39mshutdown()\n",
      "\u001B[1;31mNameError\u001B[0m: name 'ray' is not defined"
     ]
    }
   ],
   "source": [],
   "metadata": {
    "collapsed": false
   }
  },
  {
   "cell_type": "code",
   "outputs": [],
   "source": [
    "ray.shutdown()"
   ],
   "metadata": {
    "collapsed": false
   },
   "id": "fc7e639a185eeb37",
   "execution_count": 7
  }
 ],
 "metadata": {
  "kernelspec": {
   "display_name": "Python 3",
   "language": "python",
   "name": "python3"
  },
  "language_info": {
   "codemirror_mode": {
    "name": "ipython",
    "version": 2
   },
   "file_extension": ".py",
   "mimetype": "text/x-python",
   "name": "python",
   "nbconvert_exporter": "python",
   "pygments_lexer": "ipython2",
   "version": "2.7.6"
  }
 },
 "nbformat": 4,
 "nbformat_minor": 5
}
